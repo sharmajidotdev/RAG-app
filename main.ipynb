{
 "cells": [
  {
   "cell_type": "markdown",
   "metadata": {},
   "source": [
    "# RAG FAQ-app\n",
    " "
   ]
  },
  {
   "cell_type": "markdown",
   "metadata": {},
   "source": [
    "### Step 1: Load the Data"
   ]
  },
  {
   "cell_type": "code",
   "execution_count": 12,
   "metadata": {},
   "outputs": [],
   "source": [
    "from langchain_community.document_loaders.csv_loader import CSVLoader\n",
    "loader = CSVLoader('dockuno.csv')\n",
    "dataset = loader.load()"
   ]
  },
  {
   "cell_type": "markdown",
   "metadata": {},
   "source": [
    "### Step 2: Load embeddings"
   ]
  },
  {
   "cell_type": "code",
   "execution_count": 19,
   "metadata": {},
   "outputs": [
    {
     "name": "stderr",
     "output_type": "stream",
     "text": [
      "C:\\Users\\saura\\AppData\\Local\\Temp\\ipykernel_18340\\4073483054.py:5: LangChainDeprecationWarning: The class `OllamaEmbeddings` was deprecated in LangChain 0.3.1 and will be removed in 1.0.0. An updated version of the class exists in the :class:`~langchain-ollama package and should be used instead. To use it run `pip install -U :class:`~langchain-ollama` and import as `from :class:`~langchain_ollama import OllamaEmbeddings``.\n",
      "  myembedmodels = OllamaEmbeddings(model=\"all-minilm\")\n"
     ]
    }
   ],
   "source": [
    "# from langchain.embeddings.openai import OpenAIEmbeddings\n",
    "# myembedmodels = OpenAIEmbeddings(openai_api_key=\"\")\n",
    "\n",
    "from langchain_community.embeddings import OllamaEmbeddings\n",
    "myembedmodels = OllamaEmbeddings(model=\"all-minilm\")"
   ]
  },
  {
   "cell_type": "markdown",
   "metadata": {},
   "source": [
    "### Step 3: store embeddings into Vector Database"
   ]
  },
  {
   "cell_type": "code",
   "execution_count": 22,
   "metadata": {},
   "outputs": [],
   "source": [
    "# pip install -qU langchain-community faiss-cpu\n",
    "from langchain.vectorstores import FAISS\n",
    "db = FAISS.from_documents( documents=dataset , embedding=myembedmodels)"
   ]
  },
  {
   "cell_type": "code",
   "execution_count": 25,
   "metadata": {},
   "outputs": [
    {
     "data": {
      "text/plain": [
       "[Document(id='a93e060c-b70f-4779-a953-9300ab42a0d6', metadata={'source': 'dockuno.csv', 'row': 1}, page_content='Questions: What is the fee for the course?\\nAnswers: The course fee depends on the selected package.\\nPlease visit our official website for detailed pricing, including discounts and offers.'),\n",
       " Document(id='9abc0ed8-ec50-49ff-9439-8ac0a9e76eb1', metadata={'source': 'dockuno.csv', 'row': 18}, page_content='Questions: Are live Q&A sessions included in the course?\\nAnswers: Yes, live Q&A sessions are held periodically where you can ask questions directly to instructors.\\nThese sessions help clarify doubts and provide additional insights.'),\n",
       " Document(id='02f9f9ec-1c66-4926-af42-dc567d9c780c', metadata={'source': 'dockuno.csv', 'row': 15}, page_content='Questions: Are there any group discounts available?\\nAnswers: Yes, we offer group discounts for corporate teams and student groups.\\nContact us for more information on bulk enrollment discounts.'),\n",
       " Document(id='c6176c22-226c-4d9e-86d9-df1c3707a1c1', metadata={'source': 'dockuno.csv', 'row': 6}, page_content='Questions: How long is the course duration?\\nAnswers: The duration of the course varies, but typically it is a 3-day intensive program.\\nSelf-paced learners can complete it at their own convenience.')]"
      ]
     },
     "execution_count": 25,
     "metadata": {},
     "output_type": "execute_result"
    }
   ],
   "source": [
    "db.similarity_search(\"What is the fees?\")"
   ]
  },
  {
   "cell_type": "code",
   "execution_count": null,
   "metadata": {},
   "outputs": [],
   "source": []
  }
 ],
 "metadata": {
  "kernelspec": {
   "display_name": ".venv",
   "language": "python",
   "name": "python3"
  },
  "language_info": {
   "codemirror_mode": {
    "name": "ipython",
    "version": 3
   },
   "file_extension": ".py",
   "mimetype": "text/x-python",
   "name": "python",
   "nbconvert_exporter": "python",
   "pygments_lexer": "ipython3",
   "version": "3.13.0"
  }
 },
 "nbformat": 4,
 "nbformat_minor": 2
}
